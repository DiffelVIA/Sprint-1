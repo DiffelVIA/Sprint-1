{
 "cells": [
  {
   "cell_type": "markdown",
   "id": "425a18ce",
   "metadata": {},
   "source": [
    "Como parte del equipo de análisis, lo primero que debes hacer es evaluar la calidad de una muestra de datos recopilados y prepararla para analizarla posteriormente. Después, en la segunda parte de este proyecto en el segundo sprint, desarrollarás más tus habilidades y harás tu primer análisis completo, respondiendo a las necesidades del cliente.\n",
    "\n",
    "Estos son los datos que el cliente nos proporcionó. Tienen el formato de una lista de Python, con las siguientes columnas de datos:\n",
    "\n",
    "- **user_id:** Identificador único para cada usuario.\n",
    "- **user_name:** El nombre del usuario.\n",
    "- **user_age:** La edad del usuario.\n",
    "- **fav_categories:** Categorías favoritas de los artículos que compró el usuario, como 'ELECTRONICS', 'SPORT' y 'BOOKS' (ELECTRÓNICOS, DEPORTES y LIBROS), etc.\n",
    "- **total_spendings:** Una lista de números enteros que indican la cantidad total gastada en cada una de las categorías favoritas."
   ]
  },
  {
   "cell_type": "code",
   "execution_count": 65,
   "id": "e71fe2c7",
   "metadata": {},
   "outputs": [],
   "source": [
    "#Variable dada en el ejecicio con los datos a modificar.\n",
    "users = [\n",
    "    ['32415', ' mike_reed ', 32.0, ['ELECTRONICS', 'SPORT', 'BOOKS'], [894, 213, 173]],\n",
    "    ['31980', 'kate morgan', 24.0, ['CLOTHES', 'BOOKS'], [439, 390]],\n",
    "    ['32156', ' john doe ', 37.0, ['ELECTRONICS', 'HOME', 'FOOD'], [459, 120, 99]],\n",
    "    ['32761', 'SAMANTHA SMITH', 29.0, ['CLOTHES', 'ELECTRONICS', 'BEAUTY'], [299, 679, 85]],\n",
    "    ['32984', 'David White', 41.0, ['BOOKS', 'HOME', 'SPORT'], [234, 329, 243]],\n",
    "    ['33001', 'emily brown', 26.0, ['BEAUTY', 'HOME', 'FOOD'], [213, 659, 79]],\n",
    "    ['33767', ' Maria Garcia', 33.0, ['CLOTHES', 'FOOD', 'BEAUTY'], [499, 189, 63]],\n",
    "    ['33912', 'JOSE MARTINEZ', 22.0, ['SPORT', 'ELECTRONICS', 'HOME'], [259, 549, 109]],\n",
    "    ['34009', 'lisa wilson ', 35.0, ['HOME', 'BOOKS', 'CLOTHES'], [329, 189, 329]],\n",
    "    ['34278', 'James Lee', 28.0, ['BEAUTY', 'CLOTHES', 'ELECTRONICS'], [189, 299, 579]],\n",
    "]"
   ]
  },
  {
   "cell_type": "markdown",
   "id": "287374fa",
   "metadata": {},
   "source": [
    "# Paso 1\n",
    "\n",
    "Store 1 tiene como objetivo garantizar la coherencia en la recopilación de datos. Como parte de esta iniciativa, se debe evaluar la calidad de los datos recopilados sobre los usuarios y las usuarias. Te han pedido que revises los datos recopilados y propongas cambios. A continuación verás datos sobre un usuario o una usuaria en particular; revisa los datos e identifica cualquier posible problema."
   ]
  },
  {
   "cell_type": "code",
   "execution_count": 66,
   "id": "5778a245",
   "metadata": {},
   "outputs": [],
   "source": [
    "#Variables dadas en el ejercicio para analizar posibles errores o malas practicas\n",
    "user_id = '32415'\n",
    "user_name = ' mike_reed '\n",
    "user_age = 32.0\n",
    "fav_categories = ['ELECTRONICS', 'SPORT', 'BOOKS']\n",
    "spendings_per_category = [894, 213, 173]"
   ]
  },
  {
   "cell_type": "markdown",
   "id": "0242ab25",
   "metadata": {},
   "source": [
    "### Respuestas del alumno\n",
    "- user_id no necesita modificación, los números se pueden quedar como cadena ya que no se harán cálculos o se tomara como variable numérica.\n",
    "- user_name tiene espacios innecesarios.\n",
    "- user_age es una variable numérica, pero el tipo de dato debería ser entero.\n",
    "- fav_categories las cadenas decen ser escritas con minusculas para mantener las buenas practicas.\n",
    "- total_spendings no necesita cambios. "
   ]
  },
  {
   "cell_type": "markdown",
   "id": "00ee6711",
   "metadata": {},
   "source": [
    "# Paso 2\n",
    "\n",
    "Vamos a implementar los cambios que identificamos. Primero, necesitamos corregir los problemas de la variable `user_name` Como vimos, tiene espacios innecesarios y un guion bajo como separador entre el nombre y el apellido; tu objetivo es eliminar los espacios y luego reemplazar el guion bajo con el espacio."
   ]
  },
  {
   "cell_type": "code",
   "execution_count": 67,
   "id": "058e3258",
   "metadata": {},
   "outputs": [
    {
     "name": "stdout",
     "output_type": "stream",
     "text": [
      "mike reed\n"
     ]
    }
   ],
   "source": [
    "#Codigo para modificar el primer nombre\n",
    "user_name = ' mike_reed '\n",
    "user_name = user_name.strip().replace(\"_\",\" \")\n",
    "print(user_name)"
   ]
  },
  {
   "cell_type": "markdown",
   "id": "c5400183",
   "metadata": {},
   "source": [
    "# Paso 3\n",
    "\n",
    "Luego, debemos dividir el `user_name` (nombre de usuario o usuaria) actualizado en dos subcadenas para obtener una lista que contenga dos valores: la cadena para el nombre y la cadena para el apellido."
   ]
  },
  {
   "cell_type": "code",
   "execution_count": 68,
   "id": "f170b6c4",
   "metadata": {},
   "outputs": [
    {
     "name": "stdout",
     "output_type": "stream",
     "text": [
      "['mike', 'reed']\n"
     ]
    }
   ],
   "source": [
    "#Código para realizar una lista con el nombre y el apellido\n",
    "user_name = user_name.split()\n",
    "print(user_name)"
   ]
  },
  {
   "cell_type": "markdown",
   "id": "082e3fd5",
   "metadata": {},
   "source": [
    "# Paso 4\n",
    "\n",
    "¡Genial! Ahora debemos trabajar con la variable `user_age`. Como ya mencionamos, esta tiene un tipo de datos incorrecto. Arreglemos este problema transformando el tipo de datos y mostrando el resultado final.\n"
   ]
  },
  {
   "cell_type": "code",
   "execution_count": 69,
   "id": "144a483d",
   "metadata": {},
   "outputs": [
    {
     "name": "stdout",
     "output_type": "stream",
     "text": [
      "32.0 <class 'float'>\n",
      "\n",
      "32 <class 'int'>\n"
     ]
    }
   ],
   "source": [
    "#Código para transformar el tipo de datos\n",
    "print(user_age, type(user_age))\n",
    "print(\"\")\n",
    "user_age = int(user_age)\n",
    "print(user_age,type(user_age))"
   ]
  },
  {
   "cell_type": "markdown",
   "id": "1a4c49f9",
   "metadata": {},
   "source": [
    "# Paso 5\n",
    "\n",
    "Como sabemos, los datos no siempre son perfectos. Debemos considerar escenarios en los que el valor de `user_age` no se pueda convertir en un número entero. Para evitar que nuestro sistema se bloquee, debemos tomar medidas con anticipación.\n",
    "\n",
    "Escribe un código que intente convertir la variable `user_age` en un número entero y asigna el valor transformado a `user_age_int`. Si el intento falla, mostramos un mensaje pidiendo al usuario o la usuaria que proporcione su edad como un valor numérico con el mensaje: `Please provide your age as a numerical value.` (Proporcione su edad como un valor numérico.)"
   ]
  },
  {
   "cell_type": "code",
   "execution_count": 70,
   "id": "422ebb82",
   "metadata": {},
   "outputs": [
    {
     "name": "stdout",
     "output_type": "stream",
     "text": [
      "Please provide your age as a numerical value\n"
     ]
    }
   ],
   "source": [
    "#Código con sentencia Try/except\n",
    "user_age_2 = 'treinta y dos'\n",
    "try:\n",
    "    user_age_int = int(user_age_2)\n",
    "    print(user_age_int)\n",
    "except:\n",
    "    print(\"Please provide your age as a numerical value\")"
   ]
  },
  {
   "cell_type": "markdown",
   "id": "92b671d4",
   "metadata": {},
   "source": [
    "# Paso 6\n",
    "\n",
    "El equipo de dirección de Store 1 te pidió ayudarles a organizar los datos de sus clientes para analizarlos y gestionarlos mejor.\n",
    "\n",
    "Tu tarea es ordenar esta lista por ID de usuario de forma ascendente para que sea más fácil acceder a ella y analizarla.\n"
   ]
  },
  {
   "cell_type": "code",
   "execution_count": 71,
   "id": "b7bedeaf",
   "metadata": {},
   "outputs": [
    {
     "name": "stdout",
     "output_type": "stream",
     "text": [
      "[['31980', 'kate morgan', 24.0, ['CLOTHES', 'BOOKS'], [439, 390]], ['32156', ' john doe ', 37.0, ['ELECTRONICS', 'HOME', 'FOOD'], [459, 120, 99]], ['32415', ' mike_reed ', 32.0, ['ELECTRONICS', 'SPORT', 'BOOKS'], [894, 213, 173]], ['32761', 'SAMANTHA SMITH', 29.0, ['CLOTHES', 'ELECTRONICS', 'BEAUTY'], [299, 679, 85]], ['32984', 'David White', 41.0, ['BOOKS', 'HOME', 'SPORT'], [234, 329, 243]], ['33001', 'emily brown', 26.0, ['BEAUTY', 'HOME', 'FOOD'], [213, 659, 79]], ['33767', ' Maria Garcia', 33.0, ['CLOTHES', 'FOOD', 'BEAUTY'], [499, 189, 63]], ['33912', 'JOSE MARTINEZ', 22.0, ['SPORT', 'ELECTRONICS', 'HOME'], [259, 549, 109]], ['34009', 'lisa wilson ', 35.0, ['HOME', 'BOOKS', 'CLOTHES'], [329, 189, 329]], ['34278', 'James Lee', 28.0, ['BEAUTY', 'CLOTHES', 'ELECTRONICS'], [189, 299, 579]]]\n"
     ]
    }
   ],
   "source": [
    "#Código para ordenar lista\n",
    "users.sort()\n",
    "print(users)"
   ]
  },
  {
   "cell_type": "markdown",
   "id": "fc57fa43",
   "metadata": {},
   "source": [
    "# Paso 7\n",
    "\n",
    "Tenemos la información de los hábitos de consumo de nuestros usuarios, incluyendo la cantidad gastada en cada una de sus categorías favoritas. La dirección está interesada en conocer la cantidad total gastada por el usuario.\n",
    "\n",
    "\n",
    "Calculemos este valor y despleguémoslo."
   ]
  },
  {
   "cell_type": "code",
   "execution_count": 72,
   "id": "2ea69c64",
   "metadata": {},
   "outputs": [
    {
     "name": "stdout",
     "output_type": "stream",
     "text": [
      "1280\n"
     ]
    }
   ],
   "source": [
    "#Código para sumar los gastos por categoría\n",
    "total_amount = sum(spendings_per_category)\n",
    "print(total_amount)"
   ]
  },
  {
   "cell_type": "markdown",
   "id": "f45a7bdb",
   "metadata": {},
   "source": [
    "# Paso 8\n",
    "\n",
    "La dirección de la empresa nos pidió pensar en una manera de resumir toda la información de un usuario. Tu objetivo es crear una cadena formateada que utilice información de las variables `user_id`, `user_name` y `user_age`.\n",
    "\n",
    "Esta es la cadena final que queremos crear: `User 32415 is mike who is 32 years old.` (El usuario 32415 es Mike, quien tiene 32 años)."
   ]
  },
  {
   "cell_type": "code",
   "execution_count": 76,
   "id": "c5f87549",
   "metadata": {},
   "outputs": [
    {
     "name": "stdout",
     "output_type": "stream",
     "text": [
      "['mike', 'reed']\n",
      "User 32415 is mike who is 32 years old\n"
     ]
    }
   ],
   "source": [
    "#Código para hacer la cadena formateada\n",
    "print(user_name)\n",
    "print(f\"User {user_id} is {user_name[0]} who is {user_age} years old\")"
   ]
  },
  {
   "cell_type": "markdown",
   "id": "59c91938",
   "metadata": {},
   "source": [
    "# Paso 9\n",
    "\n",
    "La dirección también quiere una forma fácil de conocer la cantidad de clientes con cuyos datos contamos. Tu objetivo es crear una cadena formateada que muestre la cantidad de datos de clientes registrados.\n",
    "\n",
    "Esta es la cadena final que queremos crear: `Hemos registrado datos de X clientes`."
   ]
  },
  {
   "cell_type": "code",
   "execution_count": null,
   "id": "a107d703",
   "metadata": {},
   "outputs": [
    {
     "name": "stdout",
     "output_type": "stream",
     "text": [
      "Hemos registrado datos de 10 clientes\n"
     ]
    }
   ],
   "source": [
    "#Código para hacer la cadena formateada\n",
    "print(f\"Hemos registrado datos de {len(users)} clientes\")"
   ]
  },
  {
   "cell_type": "markdown",
   "id": "d5dda066",
   "metadata": {},
   "source": [
    "# Paso 10\n",
    "\n",
    "Apliquemos ahora todos los cambios a la lista de clientes. Para simplificar las cosas, te proporcionaremos una más corta.\n",
    "Debes:\n",
    "1. Eliminar todos los espacios iniciales y finales de los nombres, así como cualquier guion bajo.\n",
    "2. Convertir todas las edades en números enteros.\n",
    "3. Separar todos los nombres y apellidos en una sublista.\n",
    "\n",
    "Guarda la lista modificada como una nueva lista llamada `users_clean` y muéstrala en la pantalla."
   ]
  },
  {
   "cell_type": "code",
   "execution_count": 79,
   "id": "60e7bdb1",
   "metadata": {},
   "outputs": [],
   "source": [
    "#Lista más corta dada para el ejercicio\n",
    "users_list = [\n",
    "    ['32415', ' mike_reed ', 32.0, ['ELECTRONICS', 'SPORT', 'BOOKS'], [894, 213, 173]],\n",
    "    ['31980', 'kate morgan', 24.0, ['CLOTHES', 'BOOKS'], [439, 390]],\n",
    "    ['32156', ' john doe ', 37.0, ['ELECTRONICS', 'HOME', 'FOOD'], [459, 120, 99]],\n",
    "]\n",
    "\n",
    "users_clean = [\n",
    "    ['32415', ' mike_reed ', 32.0, ['ELECTRONICS', 'SPORT', 'BOOKS'], [894, 213, 173]],\n",
    "    ['31980', 'kate morgan', 24.0, ['CLOTHES', 'BOOKS'], [439, 390]],\n",
    "    ['32156', ' john doe ', 37.0, ['ELECTRONICS', 'HOME', 'FOOD'], [459, 120, 99]],\n",
    "]\n"
   ]
  },
  {
   "cell_type": "code",
   "execution_count": 87,
   "id": "cd173602",
   "metadata": {},
   "outputs": [
    {
     "name": "stdout",
     "output_type": "stream",
     "text": [
      "[['32415', ['mike', 'reed'], 32, ['ELECTRONICS', 'SPORT', 'BOOKS'], [894, 213, 173]], ['31980', ['kate', 'morgan'], 24, ['CLOTHES', 'BOOKS'], [439, 390]], ['32156', ['john', 'doe'], 37, ['ELECTRONICS', 'HOME', 'FOOD'], [459, 120, 99]]]\n"
     ]
    }
   ],
   "source": [
    "#Código para procesar al primer usuario\n",
    "\n",
    "#Eliminación de espacios innecesarios, reemplazo del guión bajo y separación del nombre.\n",
    "user_name_1 = users_list[0][1].strip().replace(\"_\",\" \").split()\n",
    "user_name_2 = users_list[1][1].strip().replace(\"_\",\" \").split()\n",
    "user_name_3 = users_list[2][1].strip().replace(\"_\",\" \").split()\n",
    "\n",
    "#Conversión a enteros\n",
    "user_age_1 = int(users_list[0][2])\n",
    "user_age_2 = int(users_list[1][2])\n",
    "user_age_3 = int(users_list[2][2])\n",
    "\n",
    "#Inserción a la lista users_clean los cambios\n",
    "#primer usuario\n",
    "users_clean[0].pop(1)\n",
    "users_clean[0].insert(1,user_name_1)\n",
    "users_clean[0].pop(2)\n",
    "users_clean[0].insert(2,user_age_1)\n",
    "\n",
    "#segundo usuario\n",
    "users_clean[1].pop(1)\n",
    "users_clean[1].insert(1,user_name_2)\n",
    "users_clean[1].pop(2)\n",
    "users_clean[1].insert(2,user_age_2)\n",
    "\n",
    "#tercer usuario\n",
    "users_clean[2].pop(1)\n",
    "users_clean[2].insert(1,user_name_3)\n",
    "users_clean[2].pop(2)\n",
    "users_clean[2].insert(2,user_age_3)\n",
    "\n",
    "print(users_clean)"
   ]
  }
 ],
 "metadata": {
  "kernelspec": {
   "display_name": "Python 3",
   "language": "python",
   "name": "python3"
  },
  "language_info": {
   "codemirror_mode": {
    "name": "ipython",
    "version": 3
   },
   "file_extension": ".py",
   "mimetype": "text/x-python",
   "name": "python",
   "nbconvert_exporter": "python",
   "pygments_lexer": "ipython3",
   "version": "3.13.2"
  }
 },
 "nbformat": 4,
 "nbformat_minor": 5
}
